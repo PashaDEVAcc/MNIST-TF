{
 "cells": [
  {
   "cell_type": "code",
   "execution_count": 1,
   "id": "f168b678",
   "metadata": {
    "_cell_guid": "b1076dfc-b9ad-4769-8c92-a6c4dae69d19",
    "_uuid": "8f2839f25d086af736a60e9eeb907d3b93b6e0e5",
    "execution": {
     "iopub.execute_input": "2022-07-30T15:10:37.169173Z",
     "iopub.status.busy": "2022-07-30T15:10:37.168657Z",
     "iopub.status.idle": "2022-07-30T15:10:43.096153Z",
     "shell.execute_reply": "2022-07-30T15:10:43.094910Z"
    },
    "papermill": {
     "duration": 5.938528,
     "end_time": "2022-07-30T15:10:43.099770",
     "exception": false,
     "start_time": "2022-07-30T15:10:37.161242",
     "status": "completed"
    },
    "tags": []
   },
   "outputs": [],
   "source": [
    "import matplotlib.pyplot as plt\n",
    "import numpy as np # linear algebra\n",
    "import pandas as pd # data processing, CSV file I/O (e.g. pd.read_csv)\n",
    "import tensorflow as tf\n",
    "import os\n",
    "def getData(filename, dirname):\n",
    "    file_dir = os.path.join('/kaggle/input', dirname)\n",
    "    csv = os.path.join(file_dir, filename)\n",
    "    return pd.read_csv(csv)"
   ]
  },
  {
   "cell_type": "code",
   "execution_count": 2,
   "id": "cbef052f",
   "metadata": {
    "execution": {
     "iopub.execute_input": "2022-07-30T15:10:43.112413Z",
     "iopub.status.busy": "2022-07-30T15:10:43.111147Z",
     "iopub.status.idle": "2022-07-30T15:10:48.840543Z",
     "shell.execute_reply": "2022-07-30T15:10:48.839352Z"
    },
    "papermill": {
     "duration": 5.738935,
     "end_time": "2022-07-30T15:10:48.843560",
     "exception": false,
     "start_time": "2022-07-30T15:10:43.104625",
     "status": "completed"
    },
    "tags": []
   },
   "outputs": [],
   "source": [
    "train_set = getData('train.csv', 'digit-recognizer')\n",
    "test_set = getData('test.csv', 'digit-recognizer')"
   ]
  },
  {
   "cell_type": "code",
   "execution_count": 3,
   "id": "be15af7a",
   "metadata": {
    "execution": {
     "iopub.execute_input": "2022-07-30T15:10:48.855609Z",
     "iopub.status.busy": "2022-07-30T15:10:48.854509Z",
     "iopub.status.idle": "2022-07-30T15:10:49.516146Z",
     "shell.execute_reply": "2022-07-30T15:10:49.514860Z"
    },
    "papermill": {
     "duration": 0.67018,
     "end_time": "2022-07-30T15:10:49.519068",
     "exception": false,
     "start_time": "2022-07-30T15:10:48.848888",
     "status": "completed"
    },
    "tags": []
   },
   "outputs": [],
   "source": [
    "train_set.shape\n",
    "x_train = np.array(train_set.drop(\"label\", axis = 1)) / 255\n",
    "y_train = np.array(train_set.label)\n",
    "x_test = np.array(test_set)"
   ]
  },
  {
   "cell_type": "code",
   "execution_count": 4,
   "id": "5c411d80",
   "metadata": {
    "execution": {
     "iopub.execute_input": "2022-07-30T15:10:49.529251Z",
     "iopub.status.busy": "2022-07-30T15:10:49.528797Z",
     "iopub.status.idle": "2022-07-30T15:10:49.539693Z",
     "shell.execute_reply": "2022-07-30T15:10:49.538434Z"
    },
    "papermill": {
     "duration": 0.019926,
     "end_time": "2022-07-30T15:10:49.543198",
     "exception": false,
     "start_time": "2022-07-30T15:10:49.523272",
     "status": "completed"
    },
    "tags": []
   },
   "outputs": [
    {
     "data": {
      "text/plain": [
       "(42000, 28, 28)"
      ]
     },
     "execution_count": 4,
     "metadata": {},
     "output_type": "execute_result"
    }
   ],
   "source": [
    "x_train.shape\n",
    "X = x_train.reshape(42000, 28, 28)\n",
    "X.shape"
   ]
  },
  {
   "cell_type": "code",
   "execution_count": 5,
   "id": "5a7b1aac",
   "metadata": {
    "execution": {
     "iopub.execute_input": "2022-07-30T15:10:49.554409Z",
     "iopub.status.busy": "2022-07-30T15:10:49.553986Z",
     "iopub.status.idle": "2022-07-30T15:10:49.561840Z",
     "shell.execute_reply": "2022-07-30T15:10:49.560356Z"
    },
    "papermill": {
     "duration": 0.016795,
     "end_time": "2022-07-30T15:10:49.564590",
     "exception": false,
     "start_time": "2022-07-30T15:10:49.547795",
     "status": "completed"
    },
    "tags": []
   },
   "outputs": [
    {
     "data": {
      "text/plain": [
       "(28000, 784)"
      ]
     },
     "execution_count": 5,
     "metadata": {},
     "output_type": "execute_result"
    }
   ],
   "source": [
    "x_test.shape"
   ]
  },
  {
   "cell_type": "code",
   "execution_count": 6,
   "id": "cdd1c4e3",
   "metadata": {
    "execution": {
     "iopub.execute_input": "2022-07-30T15:10:49.575636Z",
     "iopub.status.busy": "2022-07-30T15:10:49.575158Z",
     "iopub.status.idle": "2022-07-30T15:10:49.581007Z",
     "shell.execute_reply": "2022-07-30T15:10:49.579943Z"
    },
    "papermill": {
     "duration": 0.013975,
     "end_time": "2022-07-30T15:10:49.583262",
     "exception": false,
     "start_time": "2022-07-30T15:10:49.569287",
     "status": "completed"
    },
    "tags": []
   },
   "outputs": [],
   "source": [
    "X_test = x_test.reshape(28000, 28, 28)"
   ]
  },
  {
   "cell_type": "code",
   "execution_count": 7,
   "id": "7d2c0c59",
   "metadata": {
    "execution": {
     "iopub.execute_input": "2022-07-30T15:10:49.595043Z",
     "iopub.status.busy": "2022-07-30T15:10:49.594604Z",
     "iopub.status.idle": "2022-07-30T15:10:49.816053Z",
     "shell.execute_reply": "2022-07-30T15:10:49.814722Z"
    },
    "papermill": {
     "duration": 0.230818,
     "end_time": "2022-07-30T15:10:49.818867",
     "exception": false,
     "start_time": "2022-07-30T15:10:49.588049",
     "status": "completed"
    },
    "tags": []
   },
   "outputs": [
    {
     "data": {
      "text/plain": [
       "<matplotlib.image.AxesImage at 0x7f4bac8d4790>"
      ]
     },
     "execution_count": 7,
     "metadata": {},
     "output_type": "execute_result"
    },
    {
     "data": {
      "image/png": "[encoded data removed]",
      "text/plain": [
       "<Figure size 432x288 with 1 Axes>"
      ]
     },
     "metadata": {
      "needs_background": "light"
     },
     "output_type": "display_data"
    }
   ],
   "source": [
    "plt.imshow(X[100], cmap=\"Greys\")"
   ]
  },
  {
   "cell_type": "code",
   "execution_count": 8,
   "id": "5ef9605e",
   "metadata": {
    "execution": {
     "iopub.execute_input": "2022-07-30T15:10:49.830918Z",
     "iopub.status.busy": "2022-07-30T15:10:49.830459Z",
     "iopub.status.idle": "2022-07-30T15:10:51.439263Z",
     "shell.execute_reply": "2022-07-30T15:10:51.438169Z"
    },
    "papermill": {
     "duration": 1.618909,
     "end_time": "2022-07-30T15:10:51.442746",
     "exception": false,
     "start_time": "2022-07-30T15:10:49.823837",
     "status": "completed"
    },
    "tags": []
   },
   "outputs": [
    {
     "name": "stderr",
     "output_type": "stream",
     "text": [
      "2022-07-30 15:10:51.090987: I tensorflow/core/common_runtime/process_util.cc:146] Creating new thread pool with default inter op setting: 2. Tune using inter_op_parallelism_threads for best performance.\n"
     ]
    }
   ],
   "source": [
    "model = tf.keras.models.Sequential([\n",
    "    tf.keras.layers.Flatten(input_shape=[28,28]),\n",
    "    tf.keras.layers.Dense(175, activation=\"relu\"),\n",
    "    tf.keras.layers.Dense(175, activation=\"relu\"),\n",
    "    tf.keras.layers.Dense(175, activation=\"relu\"),\n",
    "    tf.keras.layers.Dense(10,activation=\"softmax\")\n",
    "])\n",
    "# a shape of [None, 28, 28] for a 28 x 28 image"
   ]
  },
  {
   "cell_type": "code",
   "execution_count": 9,
   "id": "409c8e37",
   "metadata": {
    "execution": {
     "iopub.execute_input": "2022-07-30T15:10:51.456951Z",
     "iopub.status.busy": "2022-07-30T15:10:51.456559Z",
     "iopub.status.idle": "2022-07-30T15:10:51.474050Z",
     "shell.execute_reply": "2022-07-30T15:10:51.472744Z"
    },
    "papermill": {
     "duration": 0.027861,
     "end_time": "2022-07-30T15:10:51.478237",
     "exception": false,
     "start_time": "2022-07-30T15:10:51.450376",
     "status": "completed"
    },
    "tags": []
   },
   "outputs": [
    {
     "name": "stdout",
     "output_type": "stream",
     "text": [
      "Model: \"sequential\"\n",
      "_________________________________________________________________\n",
      "Layer (type)                 Output Shape              Param #   \n",
      "=================================================================\n",
      "flatten (Flatten)            (None, 784)               0         \n",
      "_________________________________________________________________\n",
      "dense (Dense)                (None, 175)               137375    \n",
      "_________________________________________________________________\n",
      "dense_1 (Dense)              (None, 175)               30800     \n",
      "_________________________________________________________________\n",
      "dense_2 (Dense)              (None, 175)               30800     \n",
      "_________________________________________________________________\n",
      "dense_3 (Dense)              (None, 10)                1760      \n",
      "=================================================================\n",
      "Total params: 200,735\n",
      "Trainable params: 200,735\n",
      "Non-trainable params: 0\n",
      "_________________________________________________________________\n"
     ]
    }
   ],
   "source": [
    "model.compile(optimizer=\"adam\", loss=\"mean_squared_error\", metrics= ['accuracy'])\n",
    "model.summary()"
   ]
  },
  {
   "cell_type": "code",
   "execution_count": 10,
   "id": "e84d1c5f",
   "metadata": {
    "execution": {
     "iopub.execute_input": "2022-07-30T15:10:51.490560Z",
     "iopub.status.busy": "2022-07-30T15:10:51.490142Z",
     "iopub.status.idle": "2022-07-30T15:15:14.328707Z",
     "shell.execute_reply": "2022-07-30T15:15:14.327439Z"
    },
    "papermill": {
     "duration": 263.256033,
     "end_time": "2022-07-30T15:15:14.739903",
     "exception": false,
     "start_time": "2022-07-30T15:10:51.483870",
     "status": "completed"
    },
    "tags": []
   },
   "outputs": [
    {
     "name": "stderr",
     "output_type": "stream",
     "text": [
      "2022-07-30 15:10:51.801018: I tensorflow/compiler/mlir/mlir_graph_optimization_pass.cc:185] None of the MLIR Optimization Passes are enabled (registered 2)\n"
     ]
    },
    {
     "name": "stdout",
     "output_type": "stream",
     "text": [
      "Epoch 1/50\n",
      "1313/1313 [==============================] - 5s 3ms/step - loss: 0.0126 - accuracy: 0.9143\n",
      "Epoch 2/50\n",
      "1313/1313 [==============================] - 5s 3ms/step - loss: 0.0059 - accuracy: 0.9611\n",
      "Epoch 3/50\n",
      "1313/1313 [==============================] - 5s 3ms/step - loss: 0.0047 - accuracy: 0.9697\n",
      "Epoch 4/50\n",
      "1313/1313 [==============================] - 4s 3ms/step - loss: 0.0040 - accuracy: 0.9742\n",
      "Epoch 5/50\n",
      "1313/1313 [==============================] - 5s 4ms/step - loss: 0.0034 - accuracy: 0.9785\n",
      "Epoch 6/50\n",
      "1313/1313 [==============================] - 5s 3ms/step - loss: 0.0031 - accuracy: 0.9805\n",
      "Epoch 7/50\n",
      "1313/1313 [==============================] - 4s 3ms/step - loss: 0.0028 - accuracy: 0.9827\n",
      "Epoch 8/50\n",
      "1313/1313 [==============================] - 5s 3ms/step - loss: 0.0028 - accuracy: 0.9828\n",
      "Epoch 9/50\n",
      "1313/1313 [==============================] - 5s 3ms/step - loss: 0.0025 - accuracy: 0.9843\n",
      "Epoch 10/50\n",
      "1313/1313 [==============================] - 5s 3ms/step - loss: 0.0022 - accuracy: 0.9869\n",
      "Epoch 11/50\n",
      "1313/1313 [==============================] - 6s 4ms/step - loss: 0.0024 - accuracy: 0.9858\n",
      "Epoch 12/50\n",
      "1313/1313 [==============================] - 5s 4ms/step - loss: 0.0021 - accuracy: 0.9874\n",
      "Epoch 13/50\n",
      "1313/1313 [==============================] - 5s 4ms/step - loss: 0.0022 - accuracy: 0.9872\n",
      "Epoch 14/50\n",
      "1313/1313 [==============================] - 5s 4ms/step - loss: 0.0020 - accuracy: 0.9882\n",
      "Epoch 15/50\n",
      "1313/1313 [==============================] - 5s 3ms/step - loss: 0.0020 - accuracy: 0.9884\n",
      "Epoch 16/50\n",
      "1313/1313 [==============================] - 5s 4ms/step - loss: 0.0017 - accuracy: 0.9900\n",
      "Epoch 17/50\n",
      "1313/1313 [==============================] - 5s 3ms/step - loss: 0.0021 - accuracy: 0.9876\n",
      "Epoch 18/50\n",
      "1313/1313 [==============================] - 5s 4ms/step - loss: 0.0017 - accuracy: 0.9901\n",
      "Epoch 19/50\n",
      "1313/1313 [==============================] - 5s 4ms/step - loss: 0.0016 - accuracy: 0.9909\n",
      "Epoch 20/50\n",
      "1313/1313 [==============================] - 5s 4ms/step - loss: 0.0018 - accuracy: 0.9897\n",
      "Epoch 21/50\n",
      "1313/1313 [==============================] - 5s 4ms/step - loss: 0.0018 - accuracy: 0.9895\n",
      "Epoch 22/50\n",
      "1313/1313 [==============================] - 5s 4ms/step - loss: 0.0019 - accuracy: 0.9894\n",
      "Epoch 23/50\n",
      "1313/1313 [==============================] - 5s 4ms/step - loss: 0.0019 - accuracy: 0.9896\n",
      "Epoch 24/50\n",
      "1313/1313 [==============================] - 5s 4ms/step - loss: 0.0017 - accuracy: 0.9907\n",
      "Epoch 25/50\n",
      "1313/1313 [==============================] - 5s 4ms/step - loss: 0.0017 - accuracy: 0.9900\n",
      "Epoch 26/50\n",
      "1313/1313 [==============================] - 5s 3ms/step - loss: 0.0019 - accuracy: 0.9897\n",
      "Epoch 27/50\n",
      "1313/1313 [==============================] - 5s 4ms/step - loss: 0.0020 - accuracy: 0.9889\n",
      "Epoch 28/50\n",
      "1313/1313 [==============================] - 5s 4ms/step - loss: 0.0018 - accuracy: 0.9904\n",
      "Epoch 29/50\n",
      "1313/1313 [==============================] - 5s 4ms/step - loss: 0.0018 - accuracy: 0.9905\n",
      "Epoch 30/50\n",
      "1313/1313 [==============================] - 5s 4ms/step - loss: 0.0019 - accuracy: 0.9896\n",
      "Epoch 31/50\n",
      "1313/1313 [==============================] - 5s 4ms/step - loss: 0.0018 - accuracy: 0.9900\n",
      "Epoch 32/50\n",
      "1313/1313 [==============================] - 5s 4ms/step - loss: 0.0019 - accuracy: 0.9897\n",
      "Epoch 33/50\n",
      "1313/1313 [==============================] - 5s 4ms/step - loss: 0.0021 - accuracy: 0.9888\n",
      "Epoch 34/50\n",
      "1313/1313 [==============================] - 5s 4ms/step - loss: 0.0022 - accuracy: 0.9885\n",
      "Epoch 35/50\n",
      "1313/1313 [==============================] - 5s 4ms/step - loss: 0.0020 - accuracy: 0.9892\n",
      "Epoch 36/50\n",
      "1313/1313 [==============================] - 6s 4ms/step - loss: 0.0023 - accuracy: 0.9878\n",
      "Epoch 37/50\n",
      "1313/1313 [==============================] - 5s 4ms/step - loss: 0.0019 - accuracy: 0.9897\n",
      "Epoch 38/50\n",
      "1313/1313 [==============================] - 5s 4ms/step - loss: 0.0019 - accuracy: 0.9898\n",
      "Epoch 39/50\n",
      "1313/1313 [==============================] - 5s 4ms/step - loss: 0.0025 - accuracy: 0.9867\n",
      "Epoch 40/50\n",
      "1313/1313 [==============================] - 5s 4ms/step - loss: 0.0024 - accuracy: 0.9872\n",
      "Epoch 41/50\n",
      "1313/1313 [==============================] - 5s 4ms/step - loss: 0.0024 - accuracy: 0.9873\n",
      "Epoch 42/50\n",
      "1313/1313 [==============================] - 5s 3ms/step - loss: 0.0023 - accuracy: 0.9882\n",
      "Epoch 43/50\n",
      "1313/1313 [==============================] - 5s 4ms/step - loss: 0.0025 - accuracy: 0.9870\n",
      "Epoch 44/50\n",
      "1313/1313 [==============================] - 5s 4ms/step - loss: 0.0026 - accuracy: 0.9864\n",
      "Epoch 45/50\n",
      "1313/1313 [==============================] - 5s 4ms/step - loss: 0.0023 - accuracy: 0.9882\n",
      "Epoch 46/50\n",
      "1313/1313 [==============================] - 5s 4ms/step - loss: 0.0023 - accuracy: 0.9880\n",
      "Epoch 47/50\n",
      "1313/1313 [==============================] - 5s 3ms/step - loss: 0.0021 - accuracy: 0.9891\n",
      "Epoch 48/50\n",
      "1313/1313 [==============================] - 5s 4ms/step - loss: 0.0025 - accuracy: 0.9870\n",
      "Epoch 49/50\n",
      "1313/1313 [==============================] - 5s 4ms/step - loss: 0.0023 - accuracy: 0.9879\n",
      "Epoch 50/50\n",
      "1313/1313 [==============================] - 5s 4ms/step - loss: 0.0025 - accuracy: 0.9869\n"
     ]
    },
    {
     "data": {
      "text/plain": [
       "<keras.callbacks.History at 0x7f4bad59ea10>"
      ]
     },
     "execution_count": 10,
     "metadata": {},
     "output_type": "execute_result"
    }
   ],
   "source": [
    "y_one_hot_train = tf.one_hot(y_train, 10)\n",
    "# encoding , without it the model got a 10% accuracy\n",
    "model.fit(X,y_one_hot_train, epochs=50, batch_size = 32)\n",
    "#easy way to improve accuracy could be to explore removing some excess off the image, like the grey around the number which isn't needed"
   ]
  },
  {
   "cell_type": "code",
   "execution_count": 11,
   "id": "4334b4d0",
   "metadata": {
    "execution": {
     "iopub.execute_input": "2022-07-30T15:15:15.408251Z",
     "iopub.status.busy": "2022-07-30T15:15:15.407750Z",
     "iopub.status.idle": "2022-07-30T15:15:17.230049Z",
     "shell.execute_reply": "2022-07-30T15:15:17.229155Z"
    },
    "papermill": {
     "duration": 2.161508,
     "end_time": "2022-07-30T15:15:17.232514",
     "exception": false,
     "start_time": "2022-07-30T15:15:15.071006",
     "status": "completed"
    },
    "tags": []
   },
   "outputs": [],
   "source": [
    "pred = model.predict(x_test)"
   ]
  },
  {
   "cell_type": "code",
   "execution_count": 12,
   "id": "efa41708",
   "metadata": {
    "execution": {
     "iopub.execute_input": "2022-07-30T15:15:17.897783Z",
     "iopub.status.busy": "2022-07-30T15:15:17.897032Z",
     "iopub.status.idle": "2022-07-30T15:15:17.966216Z",
     "shell.execute_reply": "2022-07-30T15:15:17.965294Z"
    },
    "papermill": {
     "duration": 0.403101,
     "end_time": "2022-07-30T15:15:17.968534",
     "exception": false,
     "start_time": "2022-07-30T15:15:17.565433",
     "status": "completed"
    },
    "tags": []
   },
   "outputs": [
    {
     "data": {
      "text/html": [
       "<div>\n",
       "<style scoped>\n",
       "    .dataframe tbody tr th:only-of-type {\n",
       "        vertical-align: middle;\n",
       "    }\n",
       "\n",
       "    .dataframe tbody tr th {\n",
       "        vertical-align: top;\n",
       "    }\n",
       "\n",
       "    .dataframe thead th {\n",
       "        text-align: right;\n",
       "    }\n",
       "</style>\n",
       "<table border=\"1\" class=\"dataframe\">\n",
       "  <thead>\n",
       "    <tr style=\"text-align: right;\">\n",
       "      <th></th>\n",
       "      <th>ImageId</th>\n",
       "      <th>Label</th>\n",
       "    </tr>\n",
       "  </thead>\n",
       "  <tbody>\n",
       "    <tr>\n",
       "      <th>0</th>\n",
       "      <td>1</td>\n",
       "      <td>2</td>\n",
       "    </tr>\n",
       "    <tr>\n",
       "      <th>1</th>\n",
       "      <td>2</td>\n",
       "      <td>0</td>\n",
       "    </tr>\n",
       "    <tr>\n",
       "      <th>2</th>\n",
       "      <td>3</td>\n",
       "      <td>9</td>\n",
       "    </tr>\n",
       "    <tr>\n",
       "      <th>3</th>\n",
       "      <td>4</td>\n",
       "      <td>9</td>\n",
       "    </tr>\n",
       "    <tr>\n",
       "      <th>4</th>\n",
       "      <td>5</td>\n",
       "      <td>3</td>\n",
       "    </tr>\n",
       "  </tbody>\n",
       "</table>\n",
       "</div>"
      ],
      "text/plain": [
       "   ImageId  Label\n",
       "0        1      2\n",
       "1        2      0\n",
       "2        3      9\n",
       "3        4      9\n",
       "4        5      3"
      ]
     },
     "execution_count": 12,
     "metadata": {},
     "output_type": "execute_result"
    }
   ],
   "source": [
    "new_pred = tf.math.argmax(pred, axis = -1)\n",
    "sub = {'ImageId': test_set.index + 1, 'Label': new_pred}\n",
    "basic_sub = pd.DataFrame(data=sub)\n",
    "basic_sub.to_csv(\"submission.csv\", index=False)\n",
    "basic_sub.head()"
   ]
  }
 ],
 "metadata": {
  "kernelspec": {
   "display_name": "Python 3",
   "language": "python",
   "name": "python3"
  },
  "language_info": {
   "codemirror_mode": {
    "name": "ipython",
    "version": 3
   },
   "file_extension": ".py",
   "mimetype": "text/x-python",
   "name": "python",
   "nbconvert_exporter": "python",
   "pygments_lexer": "ipython3",
   "version": "3.7.12"
  },
  "papermill": {
   "default_parameters": {},
   "duration": 295.020545,
   "end_time": "2022-07-30T15:15:21.646091",
   "environment_variables": {},
   "exception": null,
   "input_path": "__notebook__.ipynb",
   "output_path": "__notebook__.ipynb",
   "parameters": {},
   "start_time": "2022-07-30T15:10:26.625546",
   "version": "2.3.4"
  }
 },
 "nbformat": 4,
 "nbformat_minor": 5
}
